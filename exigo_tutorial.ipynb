{
  "nbformat": 4,
  "nbformat_minor": 0,
  "metadata": {
    "colab": {
      "provenance": [],
      "authorship_tag": "ABX9TyOn8EE1CMQO67HRWEVIV11p",
      "include_colab_link": true
    },
    "kernelspec": {
      "name": "python3",
      "display_name": "Python 3"
    },
    "language_info": {
      "name": "python"
    }
  },
  "cells": [
    {
      "cell_type": "markdown",
      "metadata": {
        "id": "view-in-github",
        "colab_type": "text"
      },
      "source": [
        "<a href=\"https://colab.research.google.com/github/Fgp910/exigo/blob/main/exigo_tutorial.ipynb\" target=\"_parent\"><img src=\"https://colab.research.google.com/assets/colab-badge.svg\" alt=\"Open In Colab\"/></a>"
      ]
    },
    {
      "cell_type": "markdown",
      "source": [
        "# Exigo tutorial\n",
        "\n",
        "In this tutorial, we will show how to use the ActivationExplainer class from the Exigo framework. For this example, we will train rather shallow DNNs with simple binary classification datasets."
      ],
      "metadata": {
        "id": "yj3MnI1Hnc1m"
      }
    },
    {
      "cell_type": "code",
      "execution_count": null,
      "metadata": {
        "id": "_63eenqvV3qh"
      },
      "outputs": [],
      "source": [
        "# First, clone the Exigo repository\n",
        "!git clone https://github.com/Fgp910/exigo.git\n",
        "!cp exigo/exigo.py exigo.py"
      ]
    },
    {
      "cell_type": "code",
      "source": [
        "# Import the required libraries\n",
        "import exigo\n",
        "import numpy as np\n",
        "import matplotlib.pyplot as plt\n",
        "from matplotlib.ticker import MaxNLocator\n",
        "from matplotlib.colors import ListedColormap\n",
        "from sklearn.model_selection import train_test_split\n",
        "from sklearn.preprocessing import StandardScaler\n",
        "from sklearn.datasets import make_circles, make_moons\n",
        "import tensorflow as tf\n",
        "from tensorflow import keras\n",
        "from scipy.spatial import distance as sp_distance"
      ],
      "metadata": {
        "id": "-g4q9BiHg_g0"
      },
      "execution_count": null,
      "outputs": []
    },
    {
      "cell_type": "code",
      "source": [
        "# Just a function to plot our datasets, split into training and test sets\n",
        "def plot_data_split(X_train, X_test, y_train, y_test):\n",
        "    cm = ListedColormap([\"#FF0000\", \"#0000FF\"])\n",
        "    # Plot the training points\n",
        "    plt.scatter(X_train[:, 0], X_train[:, 1], c=y_train, cmap=cm, edgecolors=\"k\")\n",
        "    # Plot the testing points\n",
        "    plt.scatter(\n",
        "        X_test[:, 0], X_test[:, 1], c=y_test, cmap=cm, alpha=0.6, edgecolors=\"k\"\n",
        "    )\n",
        "    ax = plt.gca()\n",
        "    ax.set_aspect(1)\n",
        "    ax.xaxis.set_major_locator(MaxNLocator(integer=True))\n",
        "    ax.yaxis.set_major_locator(MaxNLocator(integer=True))"
      ],
      "metadata": {
        "id": "Qm8jFHanHyFy"
      },
      "execution_count": null,
      "outputs": []
    },
    {
      "cell_type": "code",
      "source": [
        "# Dataset generation\n",
        "make_data = make_circles    # For moons, replace make_circles with make_moons\n",
        "data = make_data(n_samples=500, noise=0.1, factor=0.4)\n",
        "X, y = data\n",
        "X = StandardScaler().fit_transform(X) # Standardizes the data\n",
        "\n",
        "# Train/test split\n",
        "X_train, X_test, y_train, y_test = train_test_split(X, y, test_size=0.4)\n",
        "plot_data_split(X_train, X_test, y_train, y_test)"
      ],
      "metadata": {
        "id": "tId_tbtJHMA1"
      },
      "execution_count": null,
      "outputs": []
    },
    {
      "cell_type": "code",
      "source": [
        "# We define the architecture and other hyperparameters for our DNN model (for binary classificaton)\n",
        "model = keras.Sequential([\n",
        "    keras.Input(shape=(2,)),\n",
        "    keras.layers.Dense(5, activation='relu'),\n",
        "    keras.layers.Dense(10, activation='relu'),\n",
        "    keras.layers.Dense(1, activation='sigmoid')\n",
        "])\n",
        "\n",
        "model.summary()\n",
        "\n",
        "model.compile(\n",
        "    optimizer=tf.keras.optimizers.Adam(learning_rate=1e-3),\n",
        "    loss=keras.losses.BinaryCrossentropy(),\n",
        "    metrics=[keras.metrics.BinaryAccuracy(name=\"acc\")],\n",
        ")"
      ],
      "metadata": {
        "id": "awUIPr32IoSu"
      },
      "execution_count": null,
      "outputs": []
    },
    {
      "cell_type": "code",
      "source": [
        "# Training the model\n",
        "batch_size = 16\n",
        "val_dataset = tf.data.Dataset.from_tensor_slices((X_test, y_test)).batch(batch_size)\n",
        "model.fit(X_train, y_train, batch_size=batch_size, epochs=50, validation_data=val_dataset)"
      ],
      "metadata": {
        "id": "ZfDpWrZGSi0Q"
      },
      "execution_count": null,
      "outputs": []
    },
    {
      "cell_type": "code",
      "source": [
        "# Explainer configuration\n",
        "explainer = exigo.ActivationExplainer(model, X_train)"
      ],
      "metadata": {
        "id": "l4yNzt7djAFh"
      },
      "execution_count": null,
      "outputs": []
    },
    {
      "cell_type": "code",
      "source": [
        "# Now we make some explanations for a certain index (using some \"distance\" function)\n",
        "# Try changing these values\n",
        "test_idx = 111\n",
        "distance_function = sp_distance.euclidean\n",
        "weights = [1,2,0]   # Last layer is excluded, for example"
      ],
      "metadata": {
        "id": "kXUUXQWw8qM6"
      },
      "execution_count": null,
      "outputs": []
    },
    {
      "cell_type": "code",
      "source": [
        "# For top 10 only\n",
        "top10_indices, top10_similarities = explainer.explain(X_test[test_idx], distance_function, weights=weights, top_k=10)\n",
        "print(\"Top:\")\n",
        "print(top10_indices, top10_similarities)\n",
        "\n",
        "# For similarities above threshold only\n",
        "above_indices, above_similarities = explainer.explain(X_test[test_idx], distance_function, weights=weights,\n",
        "                                                      threshold=0.997)\n",
        "print(\"Threshold:\")\n",
        "print(above_indices, above_similarities)\n",
        "\n",
        "# All points\n",
        "indices, similarities = explainer.explain(X_test[test_idx], distance_function, weights=weights)\n",
        "print(\"All:\")\n",
        "print(indices, similarities)"
      ],
      "metadata": {
        "id": "lcIxw8913p7x"
      },
      "execution_count": null,
      "outputs": []
    },
    {
      "cell_type": "code",
      "source": [
        "# Heatmap of the dataset points compared with the test_idx point\n",
        "plt.inferno()\n",
        "plt.scatter(X_train[indices, 0], X_train[indices, 1], c=similarities)\n",
        "plt.scatter(X_test[test_idx, 0], X_test[test_idx, 1], c='w', edgecolor='k', s=100)\n",
        "plt.colorbar().ax.set_title(\"Similarity\")"
      ],
      "metadata": {
        "id": "hm9kiGvt8kfT"
      },
      "execution_count": null,
      "outputs": []
    }
  ]
}